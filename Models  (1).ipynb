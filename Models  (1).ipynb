{
 "cells": [
  {
   "cell_type": "code",
   "execution_count": 1,
   "metadata": {},
   "outputs": [],
   "source": [
    "from math import log10\n",
    "import pandas as pd\n",
    "import numpy as np\n",
    "import os\n",
    "import seaborn as sns\n",
    "import matplotlib.pyplot as plt\n",
    "import warnings\n",
    "from sklearn.metrics import log_loss\n",
    "warnings.filterwarnings('ignore')"
   ]
  },
  {
   "cell_type": "code",
   "execution_count": 2,
   "metadata": {},
   "outputs": [],
   "source": [
    "# read the data into dataframe\n",
    "data =  pd.read_csv('dataset.txt', sep=\"\\t\")"
   ]
  },
  {
   "cell_type": "code",
   "execution_count": 3,
   "metadata": {},
   "outputs": [
    {
     "data": {
      "text/plain": [
       "Index(['Species', 'FrontalLip', 'RearWidth', 'Length', 'Width', 'Depth',\n",
       "       'Male', 'Female'],\n",
       "      dtype='object')"
      ]
     },
     "execution_count": 3,
     "metadata": {},
     "output_type": "execute_result"
    }
   ],
   "source": [
    "# check columns\n",
    "data.columns"
   ]
  },
  {
   "cell_type": "code",
   "execution_count": 4,
   "metadata": {},
   "outputs": [
    {
     "data": {
      "text/plain": [
       "(200, 8)"
      ]
     },
     "execution_count": 4,
     "metadata": {},
     "output_type": "execute_result"
    }
   ],
   "source": [
    "# check the shape\n",
    "data.shape"
   ]
  },
  {
   "cell_type": "code",
   "execution_count": 5,
   "metadata": {},
   "outputs": [
    {
     "data": {
      "text/html": [
       "<div>\n",
       "<style scoped>\n",
       "    .dataframe tbody tr th:only-of-type {\n",
       "        vertical-align: middle;\n",
       "    }\n",
       "\n",
       "    .dataframe tbody tr th {\n",
       "        vertical-align: top;\n",
       "    }\n",
       "\n",
       "    .dataframe thead th {\n",
       "        text-align: right;\n",
       "    }\n",
       "</style>\n",
       "<table border=\"1\" class=\"dataframe\">\n",
       "  <thead>\n",
       "    <tr style=\"text-align: right;\">\n",
       "      <th></th>\n",
       "      <th>Species</th>\n",
       "      <th>FrontalLip</th>\n",
       "      <th>RearWidth</th>\n",
       "      <th>Length</th>\n",
       "      <th>Width</th>\n",
       "      <th>Depth</th>\n",
       "      <th>Male</th>\n",
       "      <th>Female</th>\n",
       "    </tr>\n",
       "  </thead>\n",
       "  <tbody>\n",
       "    <tr>\n",
       "      <th>0</th>\n",
       "      <td>0</td>\n",
       "      <td>20.6</td>\n",
       "      <td>14.4</td>\n",
       "      <td>42.8</td>\n",
       "      <td>46.5</td>\n",
       "      <td>19.6</td>\n",
       "      <td>1</td>\n",
       "      <td>0</td>\n",
       "    </tr>\n",
       "    <tr>\n",
       "      <th>1</th>\n",
       "      <td>1</td>\n",
       "      <td>13.3</td>\n",
       "      <td>11.1</td>\n",
       "      <td>27.8</td>\n",
       "      <td>32.3</td>\n",
       "      <td>11.3</td>\n",
       "      <td>1</td>\n",
       "      <td>0</td>\n",
       "    </tr>\n",
       "    <tr>\n",
       "      <th>2</th>\n",
       "      <td>0</td>\n",
       "      <td>16.7</td>\n",
       "      <td>14.3</td>\n",
       "      <td>32.3</td>\n",
       "      <td>37.0</td>\n",
       "      <td>14.7</td>\n",
       "      <td>0</td>\n",
       "      <td>1</td>\n",
       "    </tr>\n",
       "    <tr>\n",
       "      <th>3</th>\n",
       "      <td>1</td>\n",
       "      <td>9.8</td>\n",
       "      <td>8.9</td>\n",
       "      <td>20.4</td>\n",
       "      <td>23.9</td>\n",
       "      <td>8.8</td>\n",
       "      <td>0</td>\n",
       "      <td>1</td>\n",
       "    </tr>\n",
       "    <tr>\n",
       "      <th>4</th>\n",
       "      <td>0</td>\n",
       "      <td>15.6</td>\n",
       "      <td>14.1</td>\n",
       "      <td>31.0</td>\n",
       "      <td>34.5</td>\n",
       "      <td>13.8</td>\n",
       "      <td>0</td>\n",
       "      <td>1</td>\n",
       "    </tr>\n",
       "  </tbody>\n",
       "</table>\n",
       "</div>"
      ],
      "text/plain": [
       "   Species  FrontalLip  RearWidth  Length  Width  Depth  Male  Female\n",
       "0        0        20.6       14.4    42.8   46.5   19.6     1       0\n",
       "1        1        13.3       11.1    27.8   32.3   11.3     1       0\n",
       "2        0        16.7       14.3    32.3   37.0   14.7     0       1\n",
       "3        1         9.8        8.9    20.4   23.9    8.8     0       1\n",
       "4        0        15.6       14.1    31.0   34.5   13.8     0       1"
      ]
     },
     "execution_count": 5,
     "metadata": {},
     "output_type": "execute_result"
    }
   ],
   "source": [
    "# preview some data\n",
    "data.head()"
   ]
  },
  {
   "cell_type": "code",
   "execution_count": 6,
   "metadata": {},
   "outputs": [],
   "source": [
    "label = data['Species']\n",
    "\n",
    "df = data.iloc[:,1:]"
   ]
  },
  {
   "cell_type": "code",
   "execution_count": 7,
   "metadata": {},
   "outputs": [],
   "source": [
    "# divide dataset into train , test , validation\n",
    "from sklearn.model_selection import train_test_split\n",
    "Xtrain, test, Ytrain, ytest = train_test_split(\n",
    "    df, label, \n",
    "    test_size=0.3, \n",
    "    random_state=2021\n",
    ")\n",
    "\n",
    "\n",
    "\n",
    "# split test into 15% of the total dataset each\n",
    "Xtest, Xvalid, Ytest, Yvalid = train_test_split(\n",
    "    test, ytest, \n",
    "    test_size=0.5, \n",
    "    random_state=2021\n",
    ")\n"
   ]
  },
  {
   "cell_type": "code",
   "execution_count": 8,
   "metadata": {},
   "outputs": [
    {
     "name": "stdout",
     "output_type": "stream",
     "text": [
      "Trainset has  70.0 %\n",
      "Test set has  15.0 %\n",
      "Validation set has  15.0 %\n"
     ]
    }
   ],
   "source": [
    "# check the percentage for each\n",
    "\n",
    "print(f\"Trainset has  {Xtrain.shape[0]/df.shape[0]*100} %\")\n",
    "print(f\"Test set has  {Xtest.shape[0]/df.shape[0]*100} %\")\n",
    "print(f\"Validation set has  {Xvalid.shape[0]/df.shape[0]*100} %\")"
   ]
  },
  {
   "cell_type": "code",
   "execution_count": null,
   "metadata": {},
   "outputs": [],
   "source": []
  },
  {
   "cell_type": "code",
   "execution_count": 9,
   "metadata": {},
   "outputs": [],
   "source": [
    "class Gradiend_descent_and_SDG_algorithm:\n",
    "    '''\n",
    "    try Implimenting gradient descent  and schostatic gradient descent algorithm\n",
    "    you need to pass data , labels , learning rate and model type to choose\n",
    "    '''\n",
    "    def __init__(self , X , y  , lr , iterations , model_type):\n",
    "        self.X = X\n",
    "        self.model_type= model_type\n",
    "        self.y = y.values\n",
    "        self.lr = lr\n",
    "        self.iterations = iterations\n",
    "        self.loss_ = []\n",
    "        # Initialize the weight and bais\n",
    "        self.parameters = {} \n",
    "        self.parameters[\"weight\"] = np.zeros(X.shape[1])\n",
    "        self.parameters[\"bias\"] = 0\n",
    "        \n",
    "    def sigmoid(self ,input):    \n",
    "        self.output = 1 / (1 + np.exp(-input))\n",
    "        return self.output\n",
    "    \n",
    "    def check_loss(self ,bias , weights):\n",
    "        pred_values = np.dot(self.X, weights) + bias\n",
    "        preds = self.sigmoid(pred_values)\n",
    "        \n",
    "        return preds\n",
    "        \n",
    "        \n",
    "    \n",
    "    def GD(self): \n",
    "        size = self.X.shape[0]\n",
    "        weight = self.parameters[\"weight\"] \n",
    "        bias = self.parameters[\"bias\"]\n",
    "        for i in range(self.iterations): \n",
    "                sigma = self.sigmoid(np.dot(self.X, weight) + bias)\n",
    "                loss = -1/size * np.sum(self.y * np.log(sigma)) + (1 - self.y) * np.log(1-sigma)\n",
    "                dW = 1/size * np.dot(self.X.T, (sigma - self.y))\n",
    "                db = 1/size * np.sum(sigma - self.y)\n",
    "                weight -= self.lr * dW\n",
    "                bias -= self.lr * db \n",
    "                \n",
    "                #get loss\n",
    "                epoch_loss = log_loss(self.y , self.check_loss(bias , weight))\n",
    "                self.loss_.append(epoch_loss)\n",
    "        \n",
    "\n",
    "        self.parameters[\"weight\"] = weight\n",
    "        self.parameters[\"bias\"] = bias\n",
    "        return self.parameters\n",
    "    def SDG(self):\n",
    "        size = self.X.shape[0]\n",
    "        weight = self.parameters[\"weight\"] \n",
    "        bias = self.parameters[\"bias\"]\n",
    "\n",
    "        for epoch in range(self.iterations):\n",
    "            y_pred = self.sigmoid(np.dot(self.X, weight) + bias)\n",
    "            #loss for weights\n",
    "            D_b0 = -2 * np.sum((self.y - y_pred) * y_pred * (1 - y_pred)) \n",
    "            #loss for biases\n",
    "            D_b1 = -2 * np.sum(self.X.T * (self.y - y_pred) * y_pred * (1 - y_pred)) \n",
    "            weight = weight - self.lr * D_b0\n",
    "            bias = bias - self.lr * np.sum(D_b1)/size\n",
    "        \n",
    "            #get loss\n",
    "            epoch_loss = log_loss(self.y , self.check_loss(bias , weight))\n",
    "            self.loss_.append(epoch_loss)\n",
    "\n",
    "        self.parameters[\"weight\"] = weight\n",
    "        self.parameters[\"bias\"] = bias\n",
    "        return self.parameters\n",
    "\n",
    "    def train(self):\n",
    "        if self.model_type == \"SGD\":\n",
    "            self.parameters = self.SDG()\n",
    "        else:\n",
    "            self.parameters = self.GD()\n",
    "        return self.parameters\n",
    "    \n",
    "    \n",
    "    def predict_proba(self , X):\n",
    "        output_values = np.dot(X, self.parameters[\"weight\"]) + self.parameters[\"bias\"]\n",
    "        predictions = self.sigmoid(output_values)\n",
    "        return predictions\n",
    "    def predict(self , X , upper = 0.5):\n",
    "        preds = self.predict_proba(X)\n",
    "        preds = [1 if v >=upper else 0 for v in preds]\n",
    "        return np.array(preds)\n",
    "    def compute_log_loss(self ,A,B):\n",
    "        n = len(A)\n",
    "        res = 0\n",
    "        for l in zip(A,B):\n",
    "            res += l[0] * np.log(l[1]) + (1 - l[0]) * np.log(1 - l[1])                   \n",
    "        loss = (-1 * res) / n\n",
    "        return loss\n",
    "    "
   ]
  },
  {
   "cell_type": "code",
   "execution_count": 10,
   "metadata": {},
   "outputs": [],
   "source": [
    "# create model instances for both algorith\n",
    "grad_desc = Gradiend_descent_and_SDG_algorithm(Xtrain ,Ytrain , 0.001 , 400 , \"DG\") \n",
    "SGD = Gradiend_descent_and_SDG_algorithm(Xtrain ,Ytrain , 0.001 , 400 , \"SGD\")"
   ]
  },
  {
   "cell_type": "code",
   "execution_count": null,
   "metadata": {},
   "outputs": [],
   "source": []
  },
  {
   "cell_type": "code",
   "execution_count": 11,
   "metadata": {},
   "outputs": [
    {
     "data": {
      "text/plain": [
       "{'weight': array([0.010742, 0.010742, 0.010742, 0.010742, 0.010742, 0.010742,\n",
       "        0.010742]),\n",
       " 'bias': -0.9548547328761037}"
      ]
     },
     "execution_count": 11,
     "metadata": {},
     "output_type": "execute_result"
    }
   ],
   "source": [
    "# train both models\n",
    "grad_desc.train()\n",
    "SGD.train()"
   ]
  },
  {
   "cell_type": "code",
   "execution_count": 12,
   "metadata": {},
   "outputs": [
    {
     "name": "stdout",
     "output_type": "stream",
     "text": [
      "Decision Boundary for Schostatic Descent is ..\n",
      "y = X*0.011 + X*0.011 + X*0.011 + X*0.011 + X*0.011+X*0.011 X*0.011 + -0.955\n"
     ]
    }
   ],
   "source": [
    "sgd_w = SGD.parameters['weight']\n",
    "sgd_b = SGD.parameters['bias'].round(3)\n",
    "sgd_w = sgd_w.round(3)\n",
    "print(\"Decision Boundary for Schostatic Descent is ..\")\n",
    "print(f\"y = X*{sgd_w[0]} + X*{sgd_w[1]} + X*{sgd_w[2]} + X*{sgd_w[3]} + X*{sgd_w[4]}+X*{sgd_w[5]} X*{sgd_w[6]} + {sgd_b}\")"
   ]
  },
  {
   "cell_type": "code",
   "execution_count": 13,
   "metadata": {},
   "outputs": [
    {
     "name": "stdout",
     "output_type": "stream",
     "text": [
      "Decision Boundary for Schostatic Descent is ..\n",
      "y = X*-0.102 + X*-0.009 + X*-0.011 + X*0.102 + X*-0.115+X*0.01 X*0.003 + 0.013\n"
     ]
    }
   ],
   "source": [
    "grad_w = grad_desc.parameters['weight']\n",
    "grad_b = grad_desc.parameters['bias'].round(3)\n",
    "grad_w = grad_w.round(3)\n",
    "print(\"Decision Boundary for Schostatic Descent is ..\")\n",
    "print(f\"y = X*{grad_w[0]} + X*{grad_w[1]} + X*{grad_w[2]} + X*{grad_w[3]} + X*{grad_w[4]}+X*{grad_w[5]} X*{grad_w[6]} + {grad_b}\")"
   ]
  },
  {
   "cell_type": "code",
   "execution_count": 14,
   "metadata": {},
   "outputs": [
    {
     "data": {
      "image/png": "[encoded data removed]",
      "text/plain": [
       "<Figure size 936x504 with 1 Axes>"
      ]
     },
     "metadata": {
      "needs_background": "light"
     },
     "output_type": "display_data"
    }
   ],
   "source": [
    "# plot gradient descent model results\n",
    "plt.figure(figsize=(13,7))\n",
    "plt.plot(range(len(grad_desc.loss_)), grad_desc.loss_ , label=\"Gradient Descent\")\n",
    "plt.plot(range(len(SGD.loss_)), SGD.loss_ , label = 'Schostatic Gradient descent')\n",
    "plt.title('Gradient Descent Algrothims', fontSize=14)\n",
    "plt.xlabel('Epochs')\n",
    "plt.ylabel('Losses')\n",
    "plt.savefig(\"gd.png\")\n",
    "plt.legend()\n",
    "plt.show()"
   ]
  },
  {
   "cell_type": "code",
   "execution_count": null,
   "metadata": {},
   "outputs": [],
   "source": []
  },
  {
   "cell_type": "code",
   "execution_count": 15,
   "metadata": {},
   "outputs": [
    {
     "data": {
      "image/png": "[encoded data removed]",
      "text/plain": [
       "<Figure size 864x504 with 1 Axes>"
      ]
     },
     "metadata": {
      "needs_background": "light"
     },
     "output_type": "display_data"
    }
   ],
   "source": [
    "# plot  schostatic gradient descent loss\n",
    "plt.figure(figsize=(12,7))\n",
    "plt.plot(range(len(SGD.loss_)), SGD.loss_)\n",
    "plt.title('Schostatic Gradient Descent Optimization Algorithm Loss', fontSize=14)\n",
    "plt.xlabel('Epochs')\n",
    "plt.ylabel('Losses')\n",
    "plt.savefig(\"sgd.png\")\n",
    "plt.show()"
   ]
  },
  {
   "cell_type": "code",
   "execution_count": 16,
   "metadata": {},
   "outputs": [
    {
     "name": "stdout",
     "output_type": "stream",
     "text": [
      "Accuracy score for SGD is  76.66666666666667%\n",
      "Accuracy Score for Gradient Descent is 100.0%\n"
     ]
    }
   ],
   "source": [
    "# get the accuracy for each model on the test set\n",
    "from sklearn.metrics import accuracy_score\n",
    "print(f\"Accuracy score for SGD is  {accuracy_score(Yvalid , SGD.predict(Xvalid , 0.7))*100}%\")\n",
    "print(f\"Accuracy Score for Gradient Descent is {accuracy_score(Yvalid , grad_desc.predict(Xvalid))*100}%\")"
   ]
  },
  {
   "cell_type": "code",
   "execution_count": null,
   "metadata": {},
   "outputs": [],
   "source": []
  },
  {
   "cell_type": "code",
   "execution_count": null,
   "metadata": {},
   "outputs": [],
   "source": []
  },
  {
   "cell_type": "code",
   "execution_count": 17,
   "metadata": {},
   "outputs": [
    {
     "data": {
      "image/png": "[encoded data removed]",
      "text/plain": [
       "<Figure size 720x360 with 4 Axes>"
      ]
     },
     "metadata": {
      "needs_background": "light"
     },
     "output_type": "display_data"
    }
   ],
   "source": [
    "# draw confusion matrix\n",
    "from sklearn.metrics import confusion_matrix\n",
    "c_matrix1 = confusion_matrix(Yvalid , grad_desc.predict(Xvalid))\n",
    "fig, ax = plt.subplots(1,2 , figsize=(10,5))\n",
    "sns.heatmap(c_matrix1 , annot= True , annot_kws={\"size\": 10} , ax=ax[0] )\n",
    "ax[0].set_title(\"Gradient Descent Model\")\n",
    "c_matrix2 = confusion_matrix(Yvalid , SGD.predict(Xvalid))\n",
    "sns.heatmap(c_matrix2 , annot= True , annot_kws={\"size\": 10} , ax =ax[1])\n",
    "ax[1].set_title(\"Schostatic Gradient Descent Model\")\n",
    "plt.xlabel(\"Actual Label\")\n",
    "plt.ylabel(\"Predicted Label\")\n",
    "plt.title(\"Confusion Matrix Plot \")\n",
    "plt.savefig(\"ConfusionMatrix.png\")"
   ]
  },
  {
   "cell_type": "code",
   "execution_count": null,
   "metadata": {},
   "outputs": [],
   "source": []
  },
  {
   "cell_type": "code",
   "execution_count": 18,
   "metadata": {},
   "outputs": [],
   "source": [
    "\n",
    "class GDA:\n",
    "    \"\"\"\n",
    "    Impliments Gaussian discriminant analysis (GDA) classifier\n",
    "    \"\"\"\n",
    "    def __init__(self , X , y):\n",
    "        self.X = X\n",
    "        self.y = y.values\n",
    "        self.m = self.y.shape[0]\n",
    "        self.X = self.X.values.reshape(self.m, -1)\n",
    "        input_feature = self.X.shape[1] \n",
    "        self.class_label = len(np.unique(self.y.reshape(-1))) \n",
    "        self.mu = np.zeros((self.class_label, input_feature))\n",
    "        self.sigma = np.zeros((self.class_label, input_feature, input_feature))\n",
    "        self.phi = np.zeros(self.class_label)\n",
    "    \n",
    "    def fit(self):\n",
    "        for label in range(self.class_label):\n",
    "            indices = (self.y== label)\n",
    "            self.phi[label] = float(np.sum(indices)) / self.m\n",
    "            self.mu[label] = np.mean(self.X[indices, :], axis=0)\n",
    "            self.sigma[label] = np.cov(self.X[indices, :], rowvar=0)\n",
    "\n",
    "        return self.phi, self.mu, self.sigma\n",
    "\n",
    "    def predict(self , X):\n",
    "        #flattern\n",
    "        X = X.values\n",
    "        X = X.reshape(X.shape[0], -1)\n",
    "        class_label = self.mu.shape[0]\n",
    "        scores = np.zeros((X.shape[0], class_label))\n",
    "        for label in range(class_label):\n",
    "            normal_distribution_prob = multivariate_normal(mean=self.mu[label], cov=self.sigma[label] , allow_singular=True)\n",
    "            for i, X in enumerate(X):\n",
    "                scores[i, label] = np.log(self.phi[label]) + normal_distribution_prob.logpdf(X)\n",
    "        return np.array([list(val/sum(val)) for val in scores])\n",
    "\n"
   ]
  },
  {
   "cell_type": "code",
   "execution_count": 19,
   "metadata": {},
   "outputs": [
    {
     "data": {
      "text/plain": [
       "((140, 7), (140,))"
      ]
     },
     "execution_count": 19,
     "metadata": {},
     "output_type": "execute_result"
    }
   ],
   "source": [
    "Xtrain.shape , Ytrain.shape"
   ]
  },
  {
   "cell_type": "code",
   "execution_count": 20,
   "metadata": {},
   "outputs": [],
   "source": [
    "from sklearn.metrics import f1_score\n",
    "from scipy.stats import multivariate_normal\n",
    "\n",
    "\n",
    "gda = GDA(Xtrain,Ytrain)\n",
    "phi, mu, sigma = gda.fit()"
   ]
  },
  {
   "cell_type": "code",
   "execution_count": 21,
   "metadata": {},
   "outputs": [],
   "source": [
    "\n",
    "y_predict = gda.predict(Xtest)\n"
   ]
  },
  {
   "cell_type": "code",
   "execution_count": 22,
   "metadata": {},
   "outputs": [
    {
     "data": {
      "image/png": "[encoded data removed]",
      "text/plain": [
       "<Figure size 360x360 with 2 Axes>"
      ]
     },
     "metadata": {
      "needs_background": "light"
     },
     "output_type": "display_data"
    }
   ],
   "source": [
    "# draw confusion matrix\n",
    "from sklearn.metrics import confusion_matrix\n",
    "c_matrix = confusion_matrix(Ytest , y_predict.argmax(1))\n",
    "plt.figure(figsize=(5,5))\n",
    "sns.heatmap(c_matrix , annot= True , annot_kws={\"size\": 10})\n",
    "plt.xlabel(\"Actual Label\")\n",
    "plt.ylabel(\"Predicted Label\")\n",
    "plt.title(\"GDA\")\n",
    "plt.savefig(\"gda.png\")"
   ]
  },
  {
   "cell_type": "code",
   "execution_count": 23,
   "metadata": {},
   "outputs": [
    {
     "data": {
      "text/plain": [
       "11.585451517124875"
      ]
     },
     "execution_count": 23,
     "metadata": {},
     "output_type": "execute_result"
    }
   ],
   "source": [
    "log_loss(Ytest, y_predict)"
   ]
  },
  {
   "cell_type": "code",
   "execution_count": 24,
   "metadata": {},
   "outputs": [],
   "source": [
    "from sklearn.metrics import roc_curve\n",
    "from sklearn.metrics import roc_auc_score"
   ]
  },
  {
   "cell_type": "code",
   "execution_count": 25,
   "metadata": {},
   "outputs": [
    {
     "name": "stdout",
     "output_type": "stream",
     "text": [
      "No Skill: ROC AUC=0.500\n",
      "Logistic: ROC AUC=0.652\n"
     ]
    },
    {
     "data": {
      "image/png": "[encoded data removed]",
      "text/plain": [
       "<Figure size 432x288 with 1 Axes>"
      ]
     },
     "metadata": {
      "needs_background": "light"
     },
     "output_type": "display_data"
    }
   ],
   "source": [
    "lr_probs = gda.predict(Xvalid)\n",
    "lr_probs = lr_probs[: , 0]\n",
    "ns_probs = [0 for _ in range(len(Xvalid))]\n",
    "ns_auc = roc_auc_score(Yvalid, ns_probs)\n",
    "lr_auc = roc_auc_score(Yvalid, lr_probs)\n",
    "print('No Skill: ROC AUC=%.3f' % (ns_auc))\n",
    "print('Logistic: ROC AUC=%.3f' % (lr_auc))\n",
    "ns_fpr, ns_tpr, _ = roc_curve(Yvalid, ns_probs)\n",
    "lr_fpr, lr_tpr, _ = roc_curve(Yvalid, lr_probs)\n",
    "plt.plot(ns_fpr, ns_tpr, linestyle='--', label='No Skill')\n",
    "plt.plot(lr_fpr, lr_tpr, marker='.', label='Logistic')\n",
    "plt.title(\"GDA\")\n",
    "plt.xlabel('False Positive Rate')\n",
    "plt.ylabel('True Positive Rate')\n",
    "plt.legend()\n",
    "plt.savefig(\"gdaroc.png\")\n",
    "plt.show()"
   ]
  },
  {
   "cell_type": "code",
   "execution_count": null,
   "metadata": {},
   "outputs": [],
   "source": []
  },
  {
   "cell_type": "code",
   "execution_count": 26,
   "metadata": {},
   "outputs": [
    {
     "name": "stdout",
     "output_type": "stream",
     "text": [
      "No Skill: ROC AUC=0.500\n",
      "Logistic: ROC AUC=1.000\n"
     ]
    },
    {
     "data": {
      "image/png": "[encoded data removed]",
      "text/plain": [
       "<Figure size 432x288 with 1 Axes>"
      ]
     },
     "metadata": {
      "needs_background": "light"
     },
     "output_type": "display_data"
    }
   ],
   "source": [
    "lr_probs = grad_desc.predict_proba(Xvalid)\n",
    "lr_probs = lr_probs\n",
    "ns_probs = [0 for _ in range(len(Xvalid))]\n",
    "ns_auc = roc_auc_score(Yvalid, ns_probs)\n",
    "lr_auc = roc_auc_score(Yvalid, lr_probs)\n",
    "print('No Skill: ROC AUC=%.3f' % (ns_auc))\n",
    "print('Logistic: ROC AUC=%.3f' % (lr_auc))\n",
    "ns_fpr, ns_tpr, _ = roc_curve(Yvalid, ns_probs)\n",
    "lr_fpr, lr_tpr, _ = roc_curve(Yvalid, lr_probs)\n",
    "plt.plot(ns_fpr, ns_tpr, linestyle='--', label='No Skill')\n",
    "plt.plot(lr_fpr, lr_tpr, marker='.', label='Logistic')\n",
    "plt.title(\"Gradient Descent Model ROC Curve\")\n",
    "plt.xlabel('False Positive Rate')\n",
    "plt.ylabel('True Positive Rate')\n",
    "plt.legend()\n",
    "plt.savefig(\"logdes.png\")\n",
    "plt.show()"
   ]
  },
  {
   "cell_type": "code",
   "execution_count": null,
   "metadata": {},
   "outputs": [],
   "source": []
  }
 ],
 "metadata": {
  "kernelspec": {
   "display_name": "Python 3",
   "language": "python",
   "name": "python3"
  },
  "language_info": {
   "codemirror_mode": {
    "name": "ipython",
    "version": 3
   },
   "file_extension": ".py",
   "mimetype": "text/x-python",
   "name": "python",
   "nbconvert_exporter": "python",
   "pygments_lexer": "ipython3",
   "version": "3.8.5"
  }
 },
 "nbformat": 4,
 "nbformat_minor": 4
}
